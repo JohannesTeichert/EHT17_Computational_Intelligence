{
 "cells": [
  {
   "cell_type": "markdown",
   "metadata": {},
   "source": [
    "Lection 1 - 08. Mar. 2018\n",
    "### Evolutionary Computation\n",
    "\n",
    "What is evolutionary computing:\n",
    "https://en.wikipedia.org/wiki/Evolutionary_computation\n",
    "\n",
    "Confidence -> p. values, C-Intervals\n",
    "\n",
    "Computational intelligence emerged out of big data.\n",
    "\n",
    "Heuristic algorithm: cant always give solution, if solution you dont know if it is useable or correct\n",
    "\n",
    "Computational Intelligence vs AI:\n",
    "\n",
    "Both fall under maschine learning\n",
    "\n",
    "AI -> hard computing -> always the same algorithm -> like a monkey \n",
    "CI -> soft computing (soft boundaries, fuzzy logic(next semester)) -> very adaptive -> more complex -> makes it heuristic\n",
    "\n",
    "Clinical Trial, Beta Roll out, tweaking, market.\n",
    "\n",
    "Patient in the ICU -> artificial breathing -> wening (research that) -> liung machine gradually needs to lower its power so the lungs start breathing themselves again.\n",
    "\n",
    "MYCT->Processsor Speed\n",
    "\n",
    "### Styles of learning\n",
    "\n",
    "Classification:\n",
    "100 records, 80 records used to trained the classifier ()training set, this classifier is tested against the remaining 20 (test set).\n",
    "\n",
    "\n",
    "Association:\n",
    "combining classifiers\n",
    "\n",
    "Clustering:\n",
    "\n",
    "\n",
    "\n",
    "### Attributes\n",
    "\n",
    "\n",
    "\n",
    "### I/O Problems\n",
    "\n",
    "Choose Appropriate architectures -> disadvantages: you dont know if the other algo would have worked\n",
    "\n",
    "Convert input -> disadvantages: accuracy of data gets lost and conversion rules need to be made\n",
    "\n",
    "\n",
    "### Conversion\n",
    "\n",
    "Hamming Distance"
   ]
  },
  {
   "cell_type": "markdown",
   "metadata": {},
   "source": [
    "### First Execrise:\n",
    "\n",
    "Run sudo R CMD javareconf\n",
    "\n",
    "add path to LD_LIBRARY_PATH"
   ]
  },
  {
   "cell_type": "code",
   "execution_count": null,
   "metadata": {},
   "outputs": [],
   "source": [
    "#install.packages(\"RWeka\")\n",
    "\n",
    "library(RWeka)\n",
    "\n",
    "mushrooms <- read.csv(\"mushrooms.csv\", stringsAsFactors = TRUE)\n",
    "\n",
    "str(mushrooms)"
   ]
  },
  {
   "cell_type": "markdown",
   "metadata": {},
   "source": [
    "### Biological Neural Networks 10.04.2018\n",
    "\n",
    "research: Parametrisch\n",
    "\n",
    "Can we simulate the Human Brain Functions? SOFA Framework?\n",
    "\n",
    "Euclidean distance: w.t.h. ?\n",
    "\n",
    "### 11.04.2018\n",
    "\n",
    "Fixe Daten können als Bias Nodes verwendet werden (research that!)\n",
    "\n"
   ]
  },
  {
   "cell_type": "markdown",
   "metadata": {},
   "source": [
    "### two publications from pubmed\n",
    "\n",
    "What, medical background\n",
    "what method, what neural network\n",
    "compare both publications\n",
    "\n",
    "pubmed search string: artificial neural networks.\n",
    "\n",
    "found articles: \n",
    "#### Predicting cancer outcomes from histology and genomics using convolutional networks.\n",
    "https://www.ncbi.nlm.nih.gov/pubmed/29531073\n",
    "\n",
    "#### Deep Learning for Drug Design: an Artificial Intelligence Paradigm for Drug Discovery in the Big Data Era.\n",
    "https://www.ncbi.nlm.nih.gov/pubmed/29603063\n",
    "\n"
   ]
  },
  {
   "cell_type": "code",
   "execution_count": null,
   "metadata": {},
   "outputs": [],
   "source": []
  },
  {
   "cell_type": "code",
   "execution_count": null,
   "metadata": {},
   "outputs": [],
   "source": []
  }
 ],
 "metadata": {
  "kernelspec": {
   "display_name": "R 3.3",
   "language": "R",
   "name": "ir33"
  },
  "language_info": {
   "codemirror_mode": {
    "name": "ipython",
    "version": 3
   },
   "file_extension": ".py",
   "mimetype": "text/x-python",
   "name": "python",
   "nbconvert_exporter": "python",
   "pygments_lexer": "ipython3",
   "version": "3.6.4"
  }
 },
 "nbformat": 4,
 "nbformat_minor": 2
}
