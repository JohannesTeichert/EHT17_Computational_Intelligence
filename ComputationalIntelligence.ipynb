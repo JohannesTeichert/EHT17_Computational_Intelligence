{
 "cells": [
  {
   "cell_type": "markdown",
   "metadata": {},
   "source": [
    "Lection 1 - 08. Mar. 2018\n",
    "### Evolutionary Computation\n",
    "\n",
    "What is evolutionary computing:\n",
    "https://en.wikipedia.org/wiki/Evolutionary_computation\n",
    "\n",
    "Confidence -> p. values, C-Intervals\n",
    "\n",
    "Computational intelligence emerged out of big data.\n",
    "\n",
    "Heuristic algorithm: cant always give solution, if solution you dont know if it is useable or correct\n",
    "\n",
    "Computational Intelligence vs AI:\n",
    "\n",
    "Both fall under maschine learning\n",
    "\n",
    "AI -> hard computing -> always the same algorithm -> like a monkey \n",
    "CI -> soft computing (soft boundaries, fuzzy logic(next semester)) -> very adaptive -> more complex -> makes it heuristic\n",
    "\n",
    "Clinical Trial, Beta Roll out, tweaking, market.\n",
    "\n",
    "Patient in the ICU -> artificial breathing -> wening (research that) -> liung machine gradually needs to lower its power so the lungs start breathing themselves again.\n",
    "\n",
    "MYCT->Processsor Speed\n",
    "\n",
    "### Styles of learning\n",
    "\n",
    "Classification:\n",
    "100 records, 80 records used to trained the classifier ()training set, this classifier is tested against the remaining 20 (test set).\n",
    "\n",
    "\n",
    "Association:\n",
    "combining classifiers\n",
    "\n",
    "Clustering:\n",
    "\n",
    "\n",
    "\n",
    "### Attributes\n",
    "\n",
    "\n",
    "\n",
    "### I/O Problems\n",
    "\n",
    "Choose Appropriate architectures -> disadvantages: you dont know if the other algo would have worked\n",
    "\n",
    "Convert input -> disadvantages: accuracy of data gets lost and conversion rules need to be made\n",
    "\n",
    "\n",
    "### Conversion\n",
    "\n",
    "Hamming Distance"
   ]
  },
  {
   "cell_type": "markdown",
   "metadata": {},
   "source": [
    "### First Execrise:\n",
    "\n",
    "Run sudo R CMD javareconf\n",
    "\n",
    "add path to LD_LIBRARY_PATH"
   ]
  },
  {
   "cell_type": "code",
   "execution_count": null,
   "metadata": {},
   "outputs": [],
   "source": [
    "install.packages(\"RWeka\")\n",
    "\n",
    "library(RWeka)\n",
    "\n",
    "mushrooms <- read.csv(\"mushrooms.csv\", stringsAsFactors = TRUE)\n",
    "\n",
    "str(mushrooms)\n",
    "\n",
    "class(mushrooms)\n",
    "for (i in mushrooms){\n",
    "    print(\"start\")\n",
    "    str(i)\n",
    "    print(\"testestsetsetsetset\")\n",
    "    class(i)\n",
    "    print(\"testestsetsetsetset\")\n",
    "}\n",
    "table(mushrooms$type)\n"
   ]
  },
  {
   "cell_type": "markdown",
   "metadata": {},
   "source": [
    "### Biological Neural Networks 10.04.2018\n",
    "\n",
    "research: Parametrisch\n",
    "\n",
    "Can we simulate the Human Brain Functions? SOFA Framework?\n",
    "\n",
    "Euclidean distance: w.t.h. ?\n",
    "\n",
    "### 11.04.2018\n",
    "\n",
    "Fixe Daten können als Bias Nodes verwendet werden (research that!)\n",
    "\n"
   ]
  },
  {
   "cell_type": "markdown",
   "metadata": {},
   "source": [
    "### two publications from pubmed\n",
    "\n",
    "What, medical background\n",
    "what method, what neural network\n",
    "compare both publications\n",
    "\n",
    "pubmed search string: artificial neural networks.\n",
    "\n",
    "found articles: \n",
    "#### Predicting cancer outcomes from histology and genomics using convolutional networks.\n",
    "https://www.ncbi.nlm.nih.gov/pubmed/29531073\n",
    "\n",
    "#### Deep Learning for Drug Design: an Artificial Intelligence Paradigm for Drug Discovery in the Big Data Era.\n",
    "https://www.ncbi.nlm.nih.gov/pubmed/29603063\n",
    "\n"
   ]
  },
  {
   "cell_type": "markdown",
   "metadata": {},
   "source": [
    "### Exercise 3 Neural Network in R 17.04.2018\n",
    "\n",
    "loaded the concrete.csv into variable using read.csv from library RWeka.\n",
    "\n",
    "look at it using str()\n"
   ]
  },
  {
   "cell_type": "code",
   "execution_count": null,
   "metadata": {},
   "outputs": [],
   "source": [
    "concrete <- read.csv(\"concrete.csv\")\n",
    "\n",
    "str(concrete)\n",
    "\n",
    "str(concrete$cement)\n",
    "str(concrete$slag)\n",
    "str(concrete$ash)\n",
    "str(concrete$water)\n",
    "str(concrete$superplastic)\n",
    "str(concrete$coarseagg)\n",
    "str(concrete$fineagg)\n",
    "str(concrete$age)\n",
    "str(concrete$strength)"
   ]
  },
  {
   "cell_type": "markdown",
   "metadata": {},
   "source": [
    "### Backward Propagation 24.4.2018\n",
    "\n",
    "output is the squashing function\n",
    "\n",
    "How do I know what a squashing function is?\n",
    "for example do I know that f(x)=1/(1+e^x)\n",
    "\n",
    "dEtotal/dw7=dEtotal/douto2*douto2/dneto2*dneto2/dw7"
   ]
  },
  {
   "cell_type": "markdown",
   "metadata": {},
   "source": []
  },
  {
   "cell_type": "markdown",
   "metadata": {},
   "source": [
    "### OCR 03.05.2018\n",
    "\n",
    "# TODO ASSIGNMENT 1: Take a look at the database, and describe it.\n",
    "\n",
    "\n"
   ]
  },
  {
   "cell_type": "code",
   "execution_count": 15,
   "metadata": {},
   "outputs": [
    {
     "data": {
      "text/html": [
       "<table>\n",
       "<thead><tr><th scope=col>letter</th><th scope=col>xbox</th><th scope=col>ybox</th><th scope=col>width</th><th scope=col>height</th><th scope=col>onpix</th><th scope=col>xbar</th><th scope=col>ybar</th><th scope=col>x2bar</th><th scope=col>y2bar</th><th scope=col>xybar</th><th scope=col>x2ybar</th><th scope=col>xy2bar</th><th scope=col>xedge</th><th scope=col>xedgey</th><th scope=col>yedge</th><th scope=col>yedgex</th></tr></thead>\n",
       "<tbody>\n",
       "\t<tr><td>T </td><td>2 </td><td> 8</td><td>3 </td><td>5 </td><td>1 </td><td> 8</td><td>13</td><td>0 </td><td>6 </td><td> 6</td><td>10</td><td> 8</td><td>0 </td><td> 8</td><td>0 </td><td> 8</td></tr>\n",
       "\t<tr><td>I </td><td>5 </td><td>12</td><td>3 </td><td>7 </td><td>2 </td><td>10</td><td> 5</td><td>5 </td><td>4 </td><td>13</td><td> 3</td><td> 9</td><td>2 </td><td> 8</td><td>4 </td><td>10</td></tr>\n",
       "\t<tr><td>D </td><td>4 </td><td>11</td><td>6 </td><td>8 </td><td>6 </td><td>10</td><td> 6</td><td>2 </td><td>6 </td><td>10</td><td> 3</td><td> 7</td><td>3 </td><td> 7</td><td>3 </td><td> 9</td></tr>\n",
       "\t<tr><td>N </td><td>7 </td><td>11</td><td>6 </td><td>6 </td><td>3 </td><td> 5</td><td> 9</td><td>4 </td><td>6 </td><td> 4</td><td> 4</td><td>10</td><td>6 </td><td>10</td><td>2 </td><td> 8</td></tr>\n",
       "\t<tr><td>G </td><td>2 </td><td> 1</td><td>3 </td><td>1 </td><td>1 </td><td> 8</td><td> 6</td><td>6 </td><td>6 </td><td> 6</td><td> 5</td><td> 9</td><td>1 </td><td> 7</td><td>5 </td><td>10</td></tr>\n",
       "\t<tr><td>S </td><td>4 </td><td>11</td><td>5 </td><td>8 </td><td>3 </td><td> 8</td><td> 8</td><td>6 </td><td>9 </td><td> 5</td><td> 6</td><td> 6</td><td>0 </td><td> 8</td><td>9 </td><td> 7</td></tr>\n",
       "</tbody>\n",
       "</table>\n"
      ],
      "text/latex": [
       "\\begin{tabular}{r|lllllllllllllllll}\n",
       " letter & xbox & ybox & width & height & onpix & xbar & ybar & x2bar & y2bar & xybar & x2ybar & xy2bar & xedge & xedgey & yedge & yedgex\\\\\n",
       "\\hline\n",
       "\t T  & 2  &  8 & 3  & 5  & 1  &  8 & 13 & 0  & 6  &  6 & 10 &  8 & 0  &  8 & 0  &  8\\\\\n",
       "\t I  & 5  & 12 & 3  & 7  & 2  & 10 &  5 & 5  & 4  & 13 &  3 &  9 & 2  &  8 & 4  & 10\\\\\n",
       "\t D  & 4  & 11 & 6  & 8  & 6  & 10 &  6 & 2  & 6  & 10 &  3 &  7 & 3  &  7 & 3  &  9\\\\\n",
       "\t N  & 7  & 11 & 6  & 6  & 3  &  5 &  9 & 4  & 6  &  4 &  4 & 10 & 6  & 10 & 2  &  8\\\\\n",
       "\t G  & 2  &  1 & 3  & 1  & 1  &  8 &  6 & 6  & 6  &  6 &  5 &  9 & 1  &  7 & 5  & 10\\\\\n",
       "\t S  & 4  & 11 & 5  & 8  & 3  &  8 &  8 & 6  & 9  &  5 &  6 &  6 & 0  &  8 & 9  &  7\\\\\n",
       "\\end{tabular}\n"
      ],
      "text/markdown": [
       "\n",
       "letter | xbox | ybox | width | height | onpix | xbar | ybar | x2bar | y2bar | xybar | x2ybar | xy2bar | xedge | xedgey | yedge | yedgex | \n",
       "|---|---|---|---|---|---|\n",
       "| T  | 2  |  8 | 3  | 5  | 1  |  8 | 13 | 0  | 6  |  6 | 10 |  8 | 0  |  8 | 0  |  8 | \n",
       "| I  | 5  | 12 | 3  | 7  | 2  | 10 |  5 | 5  | 4  | 13 |  3 |  9 | 2  |  8 | 4  | 10 | \n",
       "| D  | 4  | 11 | 6  | 8  | 6  | 10 |  6 | 2  | 6  | 10 |  3 |  7 | 3  |  7 | 3  |  9 | \n",
       "| N  | 7  | 11 | 6  | 6  | 3  |  5 |  9 | 4  | 6  |  4 |  4 | 10 | 6  | 10 | 2  |  8 | \n",
       "| G  | 2  |  1 | 3  | 1  | 1  |  8 |  6 | 6  | 6  |  6 |  5 |  9 | 1  |  7 | 5  | 10 | \n",
       "| S  | 4  | 11 | 5  | 8  | 3  |  8 |  8 | 6  | 9  |  5 |  6 |  6 | 0  |  8 | 9  |  7 | \n",
       "\n",
       "\n"
      ],
      "text/plain": [
       "  letter xbox ybox width height onpix xbar ybar x2bar y2bar xybar x2ybar xy2bar\n",
       "1 T      2     8   3     5      1      8   13   0     6      6    10      8    \n",
       "2 I      5    12   3     7      2     10    5   5     4     13     3      9    \n",
       "3 D      4    11   6     8      6     10    6   2     6     10     3      7    \n",
       "4 N      7    11   6     6      3      5    9   4     6      4     4     10    \n",
       "5 G      2     1   3     1      1      8    6   6     6      6     5      9    \n",
       "6 S      4    11   5     8      3      8    8   6     9      5     6      6    \n",
       "  xedge xedgey yedge yedgex\n",
       "1 0      8     0      8    \n",
       "2 2      8     4     10    \n",
       "3 3      7     3      9    \n",
       "4 6     10     2      8    \n",
       "5 1      7     5     10    \n",
       "6 0      8     9      7    "
      ]
     },
     "metadata": {},
     "output_type": "display_data"
    },
    {
     "name": "stderr",
     "output_type": "stream",
     "text": [
      "\n",
      "Attaching package: ‘kernlab’\n",
      "\n",
      "The following object is masked from ‘package:ggplot2’:\n",
      "\n",
      "    alpha\n",
      "\n"
     ]
    },
    {
     "name": "stdout",
     "output_type": "stream",
     "text": [
      " Setting default kernel parameters  \n"
     ]
    },
    {
     "data": {
      "text/plain": [
       "Support Vector Machine object of class \"ksvm\" \n",
       "\n",
       "SV type: C-svc  (classification) \n",
       " parameter : cost C = 1 \n",
       "\n",
       "Linear (vanilla) kernel function. \n",
       "\n",
       "Number of Support Vectors : 7037 \n",
       "\n",
       "Objective Function Value : -14.1746 -20.0072 -23.5628 -6.2009 -7.5524 -32.7694 -49.9786 -18.1824 -62.1111 -32.7284 -16.2209 -32.2837 -28.9777 -51.2195 -13.276 -35.6217 -30.8612 -16.5256 -14.6811 -32.7475 -30.3219 -7.7956 -11.8138 -32.3463 -13.1262 -9.2692 -153.1654 -52.9678 -76.7744 -119.2067 -165.4437 -54.6237 -41.9809 -67.2688 -25.1959 -27.6371 -26.4102 -35.5583 -41.2597 -122.164 -187.9178 -222.0856 -21.4765 -10.3752 -56.3684 -12.2277 -49.4899 -9.3372 -19.2092 -11.1776 -100.2186 -29.1397 -238.0516 -77.1985 -8.3339 -4.5308 -139.8534 -80.8854 -20.3642 -13.0245 -82.5151 -14.5032 -26.7509 -18.5713 -23.9511 -27.3034 -53.2731 -11.4773 -5.12 -13.9504 -4.4982 -3.5755 -8.4914 -40.9716 -49.8182 -190.0269 -43.8594 -44.8667 -45.2596 -13.5561 -17.7664 -87.4105 -107.1056 -37.0245 -30.7133 -112.3218 -32.9619 -27.2971 -35.5836 -17.8586 -5.1391 -43.4094 -7.7843 -16.6785 -58.5103 -159.9936 -49.0782 -37.8426 -32.8002 -74.5249 -133.3423 -11.1638 -5.3575 -12.438 -30.9907 -141.6924 -54.2953 -179.0114 -99.8896 -10.288 -15.1553 -3.7815 -67.6123 -7.696 -88.9304 -47.6448 -94.3718 -70.2733 -71.5057 -21.7854 -12.7657 -7.4383 -23.502 -13.1055 -239.9708 -30.4193 -25.2113 -136.2795 -140.9565 -9.8122 -34.4584 -6.3039 -60.8421 -66.5793 -27.2816 -214.3225 -34.7796 -16.7631 -135.7821 -160.6279 -45.2949 -25.1023 -144.9059 -82.2352 -327.7154 -142.0613 -158.8821 -32.2181 -32.8887 -52.9641 -25.4937 -47.9936 -6.8991 -9.7293 -36.436 -70.3907 -187.7611 -46.9371 -89.8103 -143.4213 -624.3645 -119.2204 -145.4435 -327.7748 -33.3255 -64.0607 -145.4831 -116.5903 -36.2977 -66.3762 -44.8248 -7.5088 -217.9246 -12.9699 -30.504 -2.0369 -6.126 -14.4448 -21.6337 -57.3084 -20.6915 -184.3625 -20.1052 -4.1484 -4.5344 -0.828 -121.4411 -7.9486 -58.5604 -21.4878 -13.5476 -5.646 -15.629 -28.9576 -20.5959 -76.7111 -27.0119 -94.7101 -15.1713 -10.0222 -7.6394 -1.5784 -87.6952 -6.2239 -99.3711 -101.0906 -45.6639 -24.0725 -61.7702 -24.1583 -52.2368 -234.3264 -39.9749 -48.8556 -34.1464 -20.9664 -11.4525 -123.0277 -6.4903 -5.1865 -8.8016 -9.4618 -21.7742 -24.2361 -123.3984 -31.4404 -88.3901 -30.0924 -13.8198 -9.2701 -3.0823 -87.9624 -6.3845 -13.968 -65.0702 -105.523 -13.7403 -13.7625 -50.4223 -2.933 -8.4289 -80.3381 -36.4147 -112.7485 -4.1711 -7.8989 -1.2676 -90.8037 -21.4919 -7.2235 -47.9557 -3.383 -20.433 -64.6138 -45.5781 -56.1309 -6.1345 -18.6307 -2.374 -72.2553 -111.1885 -106.7664 -23.1323 -19.3765 -54.9819 -34.2953 -64.4756 -20.4115 -6.689 -4.378 -59.141 -34.2468 -58.1509 -33.8665 -10.6902 -53.1387 -13.7478 -20.1987 -55.0923 -3.8058 -60.0382 -235.4841 -12.6837 -11.7407 -17.3058 -9.7167 -65.8498 -17.1051 -42.8131 -53.1054 -25.0437 -15.302 -44.0749 -16.9582 -62.9773 -5.204 -5.2963 -86.1704 -3.7209 -6.3445 -1.1264 -122.5771 -23.9041 -355.0145 -31.1013 -32.619 -4.9664 -84.1048 -134.5957 -72.8371 -23.9002 -35.3077 -11.7119 -22.2889 -1.8598 -59.2174 -8.8994 -150.742 -1.8533 -1.9711 -9.9676 -0.5207 -26.9229 -30.429 -5.6289 \n",
       "Training error : 0.130062 "
      ]
     },
     "metadata": {},
     "output_type": "display_data"
    }
   ],
   "source": [
    "letters <- read.csv(\"letterdata.csv\")\n",
    "head(letters)\n",
    "\n",
    "letters_train <- letters[1:16000, ]\n",
    "letters_test <- letters[16001:20000, ]\n",
    "\n",
    "#install.packages(\"kernlab\") #only needs to be installed once\n",
    "library(kernlab)\n",
    "\n",
    "letter_classifier <- ksvm(letter ~ ., data = letters_train, kernel = \"vanilladot\")\n",
    "\n",
    "letter_classifier\n",
    "\n"
   ]
  },
  {
   "cell_type": "markdown",
   "metadata": {},
   "source": [
    "# TODO Assignment 2\n",
    "\n",
    "\n"
   ]
  },
  {
   "cell_type": "code",
   "execution_count": null,
   "metadata": {},
   "outputs": [],
   "source": [
    "letter_predictions <- predict(letter_classifier, letters_test)\n",
    "head(letter_predictions)\n",
    "\n",
    "table(letter_predictions, letters_test$letter)\n",
    "agreement <- letter_predictions == letters_test$letter\n",
    "table(agreement)"
   ]
  },
  {
   "cell_type": "code",
   "execution_count": null,
   "metadata": {},
   "outputs": [],
   "source": [
    "letter_classifier_rbf <- ksvm(letter ~ ., data = letters_train, kernel = \"rbfdot\")\n",
    "letter_predictions_rbf <- predict(letter_classifier_rbf, letters_test)\n",
    "head(letter_predictions_rbf)\n",
    "\n",
    "table(letter_predictions_rbf, letters_test$letter)\n",
    "agreement_rbf <- letter_predictions_rbf == letters_test$letter\n",
    "table(agreement_rbf)"
   ]
  },
  {
   "cell_type": "code",
   "execution_count": null,
   "metadata": {},
   "outputs": [],
   "source": [
    "letter_classifier_polydot <- ksvm(letter ~ ., data = letters_train, kernel = \"polydot\")\n",
    "letter_predictions_polydot <- predict(letter_classifier_polydot, letters_test)\n",
    "head(letter_predictions_polydot)\n",
    "\n",
    "table(letter_predictions_polydot, letters_test$letter)\n",
    "agreement_polydot <- letter_predictions_polydot == letters_test$letter\n",
    "table(agreement_polydot)"
   ]
  },
  {
   "cell_type": "code",
   "execution_count": null,
   "metadata": {},
   "outputs": [],
   "source": [
    "letter_classifier_tanhdot <- ksvm(letter ~ ., data = letters_train, kernel = \"tanhdot\")\n",
    "letter_predictions_tanhdot <- predict(letter_classifier_tanhdot, letters_test)\n",
    "head(letter_predictions_tanhdot)\n",
    "\n",
    "table(letter_predictions_tanhdot, letters_test$letter)\n",
    "agreement_tanhdot <- letter_predictions_tanhdot == letters_test$letter\n",
    "table(agreement_tanhdot)"
   ]
  },
  {
   "cell_type": "markdown",
   "metadata": {},
   "source": [
    "### Hierarchical mixture of experts\n",
    "\n",
    "4-6 Folien 5-10 min Präsentation\n",
    "\n",
    "Hierarchical mixture of experts: non-linear combination of individual outputs by a multiple gating nodes arranged in a hierarchical fashion. bis Mittwoch 23. Mai."
   ]
  },
  {
   "cell_type": "markdown",
   "metadata": {},
   "source": [
    "### Exercise Bagging 22.05.2018\n",
    "\n",
    "Assignment 1\n"
   ]
  },
  {
   "cell_type": "code",
   "execution_count": 1,
   "metadata": {},
   "outputs": [
    {
     "data": {
      "text/plain": [
       "\n",
       "    < 0 DM   > 200 DM 1 - 200 DM    unknown \n",
       "       274         63        269        394 "
      ]
     },
     "metadata": {},
     "output_type": "display_data"
    },
    {
     "data": {
      "text/plain": [
       "\n",
       "     < 100 DM     > 1000 DM  100 - 500 DM 500 - 1000 DM       unknown \n",
       "          603            48           103            63           183 "
      ]
     },
     "metadata": {},
     "output_type": "display_data"
    },
    {
     "data": {
      "text/plain": [
       "   Min. 1st Qu.  Median    Mean 3rd Qu.    Max. \n",
       "    4.0    12.0    18.0    20.9    24.0    72.0 "
      ]
     },
     "metadata": {},
     "output_type": "display_data"
    },
    {
     "data": {
      "text/plain": [
       "   Min. 1st Qu.  Median    Mean 3rd Qu.    Max. \n",
       "    250    1366    2320    3271    3972   18424 "
      ]
     },
     "metadata": {},
     "output_type": "display_data"
    }
   ],
   "source": [
    "credit <- read.csv(\"credit.csv\")\n",
    "#str(credit)\n",
    "table(credit$checking_balance) \n",
    "table(credit$savings_balance)\n",
    "summary(credit$months_loan_duration)\n",
    "summary(credit$amount)"
   ]
  },
  {
   "cell_type": "markdown",
   "metadata": {},
   "source": [
    "#### Assignment 2 \n",
    "firstly I had to again install the ipred package\n"
   ]
  },
  {
   "cell_type": "code",
   "execution_count": 2,
   "metadata": {},
   "outputs": [
    {
     "data": {
      "text/plain": [
       "           \n",
       "credit_pred  no yes\n",
       "        no  699   2\n",
       "        yes   1 298"
      ]
     },
     "metadata": {},
     "output_type": "display_data"
    },
    {
     "name": "stderr",
     "output_type": "stream",
     "text": [
      "Loading required package: lattice\n",
      "Loading required package: ggplot2\n"
     ]
    },
    {
     "data": {
      "text/plain": [
       "Bagged CART \n",
       "\n",
       "1000 samples\n",
       "  16 predictor\n",
       "   2 classes: 'no', 'yes' \n",
       "\n",
       "No pre-processing\n",
       "Resampling: Cross-Validated (10 fold) \n",
       "Summary of sample sizes: 900, 900, 900, 900, 900, 900, ... \n",
       "Resampling results:\n",
       "\n",
       "  Accuracy  Kappa    \n",
       "  0.746     0.3540389\n"
      ]
     },
     "metadata": {},
     "output_type": "display_data"
    }
   ],
   "source": [
    "library(ipred)\n",
    "\n",
    "set.seed(300)\n",
    "mybag <- bagging(default ~ ., data = credit, nbagg = 25)\n",
    "credit_pred <- predict(mybag, credit)\n",
    "table(credit_pred, credit$default)\n",
    "\n",
    "library(caret) # install it first using install.packages(\"caret\") \n",
    "#I also needed to install the \"gcc-fortran\" package for my arch linux installation, might be \"gfortran\" in debian based distros\n",
    "\n",
    "set.seed(300)\n",
    "ctrl <- trainControl(method = \"cv\", number = 10)\n",
    "train(default ~ ., data = credit, method = \"treebag\", trControl = ctrl) #first time package \"e1071\" was missing so i installed that in R."
   ]
  },
  {
   "cell_type": "markdown",
   "metadata": {},
   "source": [
    "#### Explain last code"
   ]
  },
  {
   "cell_type": "code",
   "execution_count": 1,
   "metadata": {},
   "outputs": [
    {
     "ename": "ERROR",
     "evalue": "Error in str(svmBag): object 'svmBag' not found\n",
     "execution_count": 1,
     "output_type": "error",
     "traceback": [
      "Error in str(svmBag): object 'svmBag' not found\nTraceback:\n",
      "1. str(svmBag)"
     ]
    }
   ],
   "source": [
    "str(svmBag)\n",
    "bagctrl <- bagControl(fit = svmBag$fit, predict = svmBag$pred, aggregate = svmBag$aggregate)\n",
    "set.seed(300)\n",
    "svmbag <- train(default ~ ., data = credit, \"bag\", trControl = ctrl, bagControl = bagctrl)\n",
    "svmbag\n",
    "# for further research: https://cran.r-project.org/web/packages/caret/caret.pdf"
   ]
  },
  {
   "cell_type": "markdown",
   "metadata": {},
   "source": [
    "### 05.06.2018 TicTacToe\n",
    "\n",
    "Image preprocessing:\n",
    "imager autocrop: https://www.rdocumentation.org/packages/imager/versions/0.41.1/topics/autocrop\n",
    "\n",
    "magick transform with threshold for straightening: \n",
    "\n",
    "https://www.rdocumentation.org/packages/magick/versions/1.9/topics/transform"
   ]
  },
  {
   "cell_type": "code",
   "execution_count": 2,
   "metadata": {},
   "outputs": [
    {
     "data": {
      "image/jpeg": "[encoded data removed]"
     },
     "metadata": {},
     "output_type": "display_data"
    },
    {
     "data": {
      "text/plain": [
       "  format width height colorspace matte filesize density\n",
       "1   JPEG   959    919       sRGB FALSE        0 +72x+72"
      ]
     },
     "metadata": {},
     "output_type": "display_data"
    },
    {
     "name": "stdout",
     "output_type": "stream",
     "text": [
      "II“\n",
      "\n"
     ]
    }
   ],
   "source": [
    "library(magick)\n",
    "library(tesseract)\n",
    "im <- image_read(\"ttt2.jpeg\")\n",
    "\n",
    "#library(magrittr)\n",
    "#library(imager)\n",
    "\n",
    "#autocrop(im, color = color.at(im, 20, 20), axes = \"yx\")\n",
    "\n",
    "im2 <- image_trim(im, fuzz=20)\n",
    "im2\n",
    "cat(image_ocr(im2))\n",
    "#image_deskew(im2, threshold = 40)\n",
    "\n"
   ]
  }
 ],
 "metadata": {
  "kernelspec": {
   "display_name": "R",
   "language": "R",
   "name": "ir"
  },
  "language_info": {
   "codemirror_mode": "r",
   "file_extension": ".r",
   "mimetype": "text/x-r-source",
   "name": "R",
   "pygments_lexer": "r",
   "version": "3.5.0"
  }
 },
 "nbformat": 4,
 "nbformat_minor": 2
}
