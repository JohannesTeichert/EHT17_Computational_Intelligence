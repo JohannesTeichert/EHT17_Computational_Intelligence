{
 "cells": [
  {
   "cell_type": "code",
   "execution_count": 149,
   "metadata": {},
   "outputs": [
    {
     "data": {
      "text/html": [
       "<span style=white-space:pre-wrap>'X won! positions:  1, 5, 9'</span>"
      ],
      "text/latex": [
       "'X won! positions:  1, 5, 9'"
      ],
      "text/markdown": [
       "<span style=white-space:pre-wrap>'X won! positions:  1, 5, 9'</span>"
      ],
      "text/plain": [
       "[1] \"X won! positions:  1, 5, 9\""
      ]
     },
     "metadata": {},
     "output_type": "display_data"
    }
   ],
   "source": [
    "library(magick)\n",
    "library(tesseract)\n",
    "im <- image_read(\"ttt6.jpeg\")\n",
    "\n",
    "im <- image_trim(im, fuzz=40)\n",
    "im <- image_deskew(im, threshold=60)\n",
    "im <- image_contrast(im)\n",
    "im <- image_contrast(im)\n",
    "im <- image_resize (im, \"300x300!\")\n",
    "\n",
    "dim <- 100\n",
    "iHeight = 0\n",
    "iWidth = 0\n",
    "\n",
    "data_vector = c()\n",
    "engine <- tesseract(options = list(tessedit_char_whitelist = \"XO\"))\n",
    "\n",
    "\n",
    "while (iWidth <= 200) {\n",
    "    while (iHeight <= 200) {\n",
    "        format_string <- paste(\"60x60+\", iWidth+13, \"+\", iHeight+13)\n",
    "        temp_image <- image_crop(im, format_string)\n",
    "        temp_image <- image_modulate(temp_image, brightness = 120, saturation = 110)\n",
    "        #print(temp_image)\n",
    "        temp_val <- ocr(temp_image, engine)\n",
    "        data_vector <- c(data_vector, temp_val)\n",
    "        iHeight <- iHeight + dim\n",
    "    }\n",
    "    iHeight <- 0\n",
    "    iWidth <- iWidth + dim\n",
    "}\n",
    "\n",
    "\n",
    "ocr_sample_input <- c(\"X\", \"O\", \"X\", \"O\", \"X\", \"c\", \"G\", \"C\", \"M\")\n",
    "replacements_O <- c(\"o\", \"0\", \"g\", \"G\", \"ö\", \"Ö\", \"C\", \"c\", \"q\", \"Q\")\n",
    "replacements_X <- c(\"x\", \"X\", \"m\", \"M\" ,\"k\", \"K\", \"z\", \"Z\")\n",
    "result = c()\n",
    "\n",
    "for(datapoint in ocr_sample_input){\n",
    "    if(datapoint %in% replacements_O){\n",
    "        result <- c(result,\"O\")\n",
    "    } else if(datapoint %in% replacements_X){\n",
    "        result <- c(result,\"X\")\n",
    "    } else {\n",
    "        result <- c(result,datapoint)\n",
    "    }\n",
    "}\n",
    "\n",
    "indicesFor <- function(val, inputArray) {\n",
    " indices <- c()\n",
    " index <- 1\n",
    "\n",
    "for (input in inputArray) {\n",
    "  if (input == val) {\n",
    "    indices <- c(indices, index)\n",
    "  }\n",
    "   index <- index + 1\n",
    "  }\n",
    "return(indices)\n",
    "}\n",
    "\n",
    "x_positions <- indicesFor(\"X\", result)\n",
    "o_positions <- indicesFor(\"O\", result)\n",
    "\n",
    "comparedata<-matrix(list(1,4,7,1,2,3,1,3,2,5,8,4,5,6,5,5,3,6,9,7,8,9,9,7), nrow=8, ncol=3)\n",
    "\n",
    "i=1\n",
    "while(i < dim(comparedata)[1]){\n",
    "    if (length(intersect(x_positions,comparedata[i,]))==3){\n",
    "        result<-paste(\"X won! positions: \",toString(comparedata[i,]))\n",
    "        break\n",
    "    } else if (length(intersect(o_positions,comparedata[i,]))==3){\n",
    "        result<-paste(\"O won! positions: \",toString(comparedata[i,]))\n",
    "        break\n",
    "    }\n",
    "    i <- i+1\n",
    "}\n",
    "result"
   ]
  }
 ],
 "metadata": {
  "kernelspec": {
   "display_name": "R",
   "language": "R",
   "name": "ir"
  },
  "language_info": {
   "codemirror_mode": "r",
   "file_extension": ".r",
   "mimetype": "text/x-r-source",
   "name": "R",
   "pygments_lexer": "r",
   "version": "3.5.0"
  }
 },
 "nbformat": 4,
 "nbformat_minor": 2
}
